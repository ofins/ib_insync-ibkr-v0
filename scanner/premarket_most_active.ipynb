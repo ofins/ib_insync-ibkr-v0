{
 "cells": [
  {
   "cell_type": "markdown",
   "id": "7658486c-f989-4c70-b733-2e66739296a1",
   "metadata": {},
   "source": [
    "# Scanner - Pre-market MOST ACTIVE\n",
    "\n",
    "## Brief\n",
    "We'll be using `reqScannerData` to fetch most active stocks by volume during pre-market session and filtering through the list to find \"hot\" candidates for the day."
   ]
  },
  {
   "cell_type": "code",
   "execution_count": 1,
   "id": "b61ec67e-96ca-4fae-99f7-7c432730071c",
   "metadata": {},
   "outputs": [
    {
     "data": {
      "text/plain": [
       "<IB connected to 127.0.0.1:4002 clientId=17>"
      ]
     },
     "execution_count": 1,
     "metadata": {},
     "output_type": "execute_result"
    },
    {
     "name": "stderr",
     "output_type": "stream",
     "text": [
      "Error 162, reqId 3: Historical Market Data Service error message:API scanner subscription cancelled: 3\n",
      "Error 162, reqId 4: Historical Market Data Service error message:API scanner subscription cancelled: 4\n",
      "Error 162, reqId 5: Historical Market Data Service error message:API scanner subscription cancelled: 5\n",
      "Error 162, reqId 6: Historical Market Data Service error message:API scanner subscription cancelled: 6\n",
      "Error 162, reqId 7: Historical Market Data Service error message:API scanner subscription cancelled: 7\n",
      "Error 162, reqId 9: Historical Market Data Service error message:API scanner subscription cancelled: 9\n"
     ]
    }
   ],
   "source": [
    "from ib_insync import *\n",
    "util.startLoop()\n",
    "\n",
    "ib = IB()\n",
    "ib.connect('127.0.0.1', 4002, clientId=17)"
   ]
  },
  {
   "cell_type": "code",
   "execution_count": null,
   "id": "59a0c4c9-df15-4d20-bdc2-e30d24eccb60",
   "metadata": {},
   "outputs": [],
   "source": [
    "sub = ScannerSubscription(instrument='STK', locationCode='STK.US.MAJOR', scanCode='MOST_ACTIVE')\n",
    "\n",
    "sub.abovePrice = 5.0\n",
    "sub.belowPrice = 50.0\n",
    "sub.aboveVolume = 100000\n",
    "\n",
    "scanData = ib.reqScannerData(sub)\n",
    "\n",
    "# Get top 20 most active stocks during premarket.\n",
    "top_20 = scanData[:20]\n",
    "contracts = [sd.contractDetails.contract for sd in top_20]"
   ]
  },
  {
   "cell_type": "code",
   "execution_count": null,
   "id": "6323b47e-a8b8-4b51-a622-5737dcca500e",
   "metadata": {},
   "outputs": [],
   "source": [
    "# Get real-time tickers data\n",
    "tickers = ib.reqTickers(*contracts)\n",
    "ib.sleep(2) # Wait for data\n",
    "\n",
    "volume_data = []\n",
    "for ticker, scan in zip(tickers, top_20):\n",
    "    symbol = ticker.contract.symbol\n",
    "    volume = ticker.volume if ticker.volume is not None else 0\n",
    "    exchange = ticker.contract.exchange\n",
    "    volume_data.append({\n",
    "        'Rank': scan.rank,\n",
    "        'Symbol': symbol,\n",
    "        'Volume': volume,\n",
    "        'Exchange': exchange\n",
    "    })\n",
    "\n",
    "# Create DataFrame for clean output\n",
    "volume_df = pd.DataFrame(volume_data)\n",
    "top_20_volume = volume_df.sort_values(by='Volume', ascending=False).head(20)\n",
    "\n",
    "# Print in readable format\n",
    "print(\"\\nTop 20 Stocks by Premarket volume\")\n",
    "print(top_20_volume.to_string(index=False))"
   ]
  }
 ],
 "metadata": {
  "kernelspec": {
   "display_name": "Python 3 (ipykernel)",
   "language": "python",
   "name": "python3"
  },
  "language_info": {
   "codemirror_mode": {
    "name": "ipython",
    "version": 3
   },
   "file_extension": ".py",
   "mimetype": "text/x-python",
   "name": "python",
   "nbconvert_exporter": "python",
   "pygments_lexer": "ipython3",
   "version": "3.12.2"
  }
 },
 "nbformat": 4,
 "nbformat_minor": 5
}
