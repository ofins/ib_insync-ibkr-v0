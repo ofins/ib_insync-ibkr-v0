{
 "cells": [
  {
   "cell_type": "code",
   "execution_count": 2,
   "id": "3c305e39-377f-41fe-a3d8-cefbd6071aed",
   "metadata": {},
   "outputs": [
    {
     "data": {
      "text/plain": [
       "<IB connected to 127.0.0.1:4002 clientId=15>"
      ]
     },
     "execution_count": 2,
     "metadata": {},
     "output_type": "execute_result"
    }
   ],
   "source": [
    "from ib_insync import *\n",
    "util.startLoop()\n",
    "\n",
    "ib = IB()\n",
    "ib.connect('127.0.0.1', 4002, clientId=15)"
   ]
  },
  {
   "cell_type": "code",
   "execution_count": 24,
   "id": "cdda1641-c8d2-499d-8a09-111b05d5451f",
   "metadata": {},
   "outputs": [
    {
     "name": "stdout",
     "output_type": "stream",
     "text": [
      "Stock(symbol='AAPL', exchange='SMART', currency='USD')\n",
      "1980-12-12 14:30:00\n",
      "Stock(symbol='TSLA', exchange='SMART', currency='USD')\n",
      "2010-06-29 08:00:00\n",
      "Stock(symbol='META', exchange='SMART', currency='USD')\n",
      "2012-05-18 13:30:00\n"
     ]
    }
   ],
   "source": [
    "symbols = ['AAPL', 'TSLA', 'META']\n",
    "for s in symbols:\n",
    "    contract = Stock(s, 'SMART', 'USD')\n",
    "    print(contract)\n",
    "    result = ib.reqHeadTimeStamp(contract, whatToShow='TRADES', useRTH=True)\n",
    "    print(result)"
   ]
  },
  {
   "cell_type": "code",
   "execution_count": null,
   "id": "2f8680f8-e821-423f-95fa-79161e4bf23b",
   "metadata": {},
   "outputs": [],
   "source": [
    "bars = ib.reqHistoricalData(contract, endDateTime='', durationStr='60 D', barSizeSetting='1 hour', whatToShow='TRADES', useRTH=True, formatDate=1)"
   ]
  },
  {
   "cell_type": "code",
   "execution_count": null,
   "id": "ff15364f-2d99-4d19-9d4d-aca4df5cdb8a",
   "metadata": {},
   "outputs": [],
   "source": [
    "bars[0]"
   ]
  },
  {
   "cell_type": "code",
   "execution_count": null,
   "id": "e5981404-7395-4bca-9886-fc49d7ccacc4",
   "metadata": {},
   "outputs": [],
   "source": [
    "df = util.df(bars)\n",
    "\n",
    "display(df.head())\n",
    "display(df.tail())"
   ]
  },
  {
   "cell_type": "code",
   "execution_count": null,
   "id": "dc75e729-bb98-4dce-ae1f-2d9ecbe0c17d",
   "metadata": {},
   "outputs": [],
   "source": [
    "%matplotlib inline"
   ]
  },
  {
   "cell_type": "code",
   "execution_count": null,
   "id": "c5c35430-a01b-4b72-8049-ca35a712af78",
   "metadata": {},
   "outputs": [],
   "source": [
    "df.plot(y='close')"
   ]
  },
  {
   "cell_type": "code",
   "execution_count": null,
   "id": "3d712241-e0e9-41e9-a72b-a2e2da3c7d6e",
   "metadata": {},
   "outputs": [],
   "source": [
    "util.barplot(bars[-100:], title=contract.symbol);"
   ]
  },
  {
   "cell_type": "code",
   "execution_count": null,
   "id": "f1c0a2cf-5713-41ba-9bb7-aaff33b32477",
   "metadata": {},
   "outputs": [],
   "source": [
    "contract = Forex('EURUSD')\n",
    "\n",
    "bars = ib.reqHistoricalData(\n",
    "        contract,\n",
    "        endDateTime='',\n",
    "        durationStr='900 S',\n",
    "        barSizeSetting='10 secs',\n",
    "        whatToShow='MIDPOINT',\n",
    "        useRTH=True,\n",
    "        formatDate=1,\n",
    "        keepUpToDate=True)"
   ]
  },
  {
   "cell_type": "code",
   "execution_count": null,
   "id": "b18bc286-b17a-4e9c-aac5-f5c611a7f4bf",
   "metadata": {},
   "outputs": [],
   "source": [
    "from IPython.display import display, clear_output\n",
    "import matplotlib.pyplot as plt\n",
    "\n",
    "def onBarUpdate(bars, hasNewBar):\n",
    "    plt.close()\n",
    "    plot = util.barplot(bars)\n",
    "    clear_output(wait=True)\n",
    "    display(plot)\n",
    "\n",
    "bars.updateEvent += onBarUpdate\n",
    "\n",
    "ib.sleep(10)\n",
    "ib.cancelHistoricalData(bars)"
   ]
  },
  {
   "cell_type": "code",
   "execution_count": null,
   "id": "c94425b6-4bd5-4adf-bcd0-8727e0935707",
   "metadata": {},
   "outputs": [],
   "source": [
    "def onBarUpdate(bars, hasNewBar):\n",
    "    print(bars[-1])"
   ]
  },
  {
   "cell_type": "code",
   "execution_count": null,
   "id": "3bba529c-3e3d-4f11-b672-77713a223255",
   "metadata": {},
   "outputs": [],
   "source": [
    "bars = ib.reqRealTimeBars(contract, 5, 'MIDPOINT', False)\n",
    "bars.updateEvent += onBarUpdate"
   ]
  },
  {
   "cell_type": "code",
   "execution_count": null,
   "id": "5f8a665c-831a-4823-9b14-71e23a4b5dad",
   "metadata": {},
   "outputs": [],
   "source": [
    "ib.sleep(30)\n",
    "ib.cancelRealTimeBars(bars)"
   ]
  },
  {
   "cell_type": "code",
   "execution_count": null,
   "id": "3ccbb093-b68d-4241-97e2-410021324540",
   "metadata": {},
   "outputs": [],
   "source": [
    "ib.disconnected()"
   ]
  }
 ],
 "metadata": {
  "kernelspec": {
   "display_name": "Python 3 (ipykernel)",
   "language": "python",
   "name": "python3"
  },
  "language_info": {
   "codemirror_mode": {
    "name": "ipython",
    "version": 3
   },
   "file_extension": ".py",
   "mimetype": "text/x-python",
   "name": "python",
   "nbconvert_exporter": "python",
   "pygments_lexer": "ipython3",
   "version": "3.12.2"
  }
 },
 "nbformat": 4,
 "nbformat_minor": 5
}
